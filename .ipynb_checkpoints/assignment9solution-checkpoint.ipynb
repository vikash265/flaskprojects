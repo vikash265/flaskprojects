{
 "cells": [
  {
   "cell_type": "markdown",
   "metadata": {},
   "source": [
    "#### 1.\tProgram to find quotient and remainder "
   ]
  },
  {
   "cell_type": "code",
   "execution_count": 15,
   "metadata": {},
   "outputs": [
    {
     "name": "stdout",
     "output_type": "stream",
     "text": [
      "enter the number 4\n",
      "quotient 0.4\n",
      "remainder 4 \n"
     ]
    }
   ],
   "source": [
    "number = int(input(\"enter the number \"))\n",
    "quotient = number / 10\n",
    "remainder = number % 10\n",
    "print(f\"quotient {quotient}\")\n",
    "print(f\"remainder {remainder} \")"
   ]
  },
  {
   "cell_type": "markdown",
   "metadata": {},
   "source": [
    "#### 2.\tProgram to print the sum of digits of any number"
   ]
  },
  {
   "cell_type": "code",
   "execution_count": 2,
   "metadata": {},
   "outputs": [
    {
     "name": "stdout",
     "output_type": "stream",
     "text": [
      "enter the number 123\n",
      "6\n"
     ]
    }
   ],
   "source": [
    "n = int(input(\"enter the number \"))\n",
    "sum = 0\n",
    "while n!= 0:\n",
    "    a = n%10\n",
    "    sum = sum + a\n",
    "    n = n//10\n",
    "print(sum)"
   ]
  },
  {
   "cell_type": "code",
   "execution_count": null,
   "metadata": {},
   "outputs": [],
   "source": []
  },
  {
   "cell_type": "markdown",
   "metadata": {},
   "source": [
    "#### 3.\tProgram to print product of digits of any number"
   ]
  },
  {
   "cell_type": "code",
   "execution_count": 3,
   "metadata": {},
   "outputs": [
    {
     "name": "stdout",
     "output_type": "stream",
     "text": [
      "Enter the no 432\n",
      "24\n"
     ]
    }
   ],
   "source": [
    "num = int(input(\"Enter the no \"))\n",
    "product =1\n",
    "while num!=0 :\n",
    "    a=num%10\n",
    "    product = a*product\n",
    "    num = num//10\n",
    "print(product)"
   ]
  },
  {
   "cell_type": "markdown",
   "metadata": {},
   "source": [
    "#### 4.\tProgram to convert a binary number to a decimal number"
   ]
  },
  {
   "cell_type": "code",
   "execution_count": null,
   "metadata": {},
   "outputs": [],
   "source": []
  },
  {
   "cell_type": "markdown",
   "metadata": {},
   "source": [
    "#### 5.\tProgram to find the sum of numbers entered"
   ]
  },
  {
   "cell_type": "code",
   "execution_count": 9,
   "metadata": {},
   "outputs": [
    {
     "name": "stdout",
     "output_type": "stream",
     "text": [
      "enter the numbers  1 23\n",
      "24\n"
     ]
    }
   ],
   "source": [
    "num=map(int,input(\"enter the numbers  \").split())\n",
    "print(sum(list(num)))"
   ]
  },
  {
   "cell_type": "markdown",
   "metadata": {},
   "source": [
    "#### 6.\tMultiply two positive numbers without using  * operator"
   ]
  },
  {
   "cell_type": "code",
   "execution_count": 17,
   "metadata": {},
   "outputs": [],
   "source": []
  },
  {
   "cell_type": "markdown",
   "metadata": {},
   "source": [
    "#### 7.\tFind the sum of this series up to n terms – 1 + 2 + 4 + 7 + 11 + 16 + …….."
   ]
  },
  {
   "cell_type": "code",
   "execution_count": 23,
   "metadata": {},
   "outputs": [
    {
     "name": "stdout",
     "output_type": "stream",
     "text": [
      "Enter the number 5\n",
      "1 + 2 + 4 + 7 + 11 + ... =  25\n"
     ]
    }
   ],
   "source": [
    "total,n=0,1\n",
    "for i in range(0,int(input(\"Enter the number \"))):\n",
    "    print(n+i,end=\" + \")\n",
    "    total = total + (n+i)\n",
    "    n+=i\n",
    "print(\"... = \",total)"
   ]
  },
  {
   "cell_type": "markdown",
   "metadata": {},
   "source": [
    "#### 8.\tProgram to generate Fibonacci series"
   ]
  },
  {
   "cell_type": "code",
   "execution_count": 31,
   "metadata": {},
   "outputs": [
    {
     "name": "stdout",
     "output_type": "stream",
     "text": [
      "Enter the number 6\n",
      "0 1 1 2 3 5 "
     ]
    }
   ],
   "source": [
    "c,p=1,0\n",
    "for i in range(0,int(input(\"Enter the number \"))):\n",
    "    c ,p= p,c+p\n",
    "    print(c,end=\" \")"
   ]
  },
  {
   "cell_type": "markdown",
   "metadata": {},
   "source": [
    "#### 9.\tProgram to print Armstrong numbers"
   ]
  },
  {
   "cell_type": "code",
   "execution_count": 52,
   "metadata": {},
   "outputs": [
    {
     "name": "stdout",
     "output_type": "stream",
     "text": [
      "enter the starting range 100\n",
      "enter the ending range 1000\n",
      "[153, 370, 371, 407]\n"
     ]
    }
   ],
   "source": [
    "lis =[]\n",
    "for i in range(int(input(\"enter the starting range \")),int(input(\"enter the ending range \"))):\n",
    "    total,num =0,i\n",
    "    while num!=0:\n",
    "        a=num%10\n",
    "        total = total+a**len(str(i))\n",
    "        num = num//10\n",
    "    if i==total:\n",
    "        lis.append(total)\n",
    "print(lis)"
   ]
  },
  {
   "cell_type": "markdown",
   "metadata": {},
   "source": [
    "#### 11.\tProgram to find whether a number is prime or not"
   ]
  },
  {
   "cell_type": "code",
   "execution_count": 15,
   "metadata": {},
   "outputs": [
    {
     "name": "stdout",
     "output_type": "stream",
     "text": [
      "enter the starting range 10\n",
      "enter the ending range 100\n",
      "[11, 13, 17, 19, 23, 29, 31, 37, 41, 43, 47, 53, 59, 61, 67, 71, 73, 79, 83, 89, 97]\n"
     ]
    }
   ],
   "source": [
    "from math import sqrt\n",
    "liss = []\n",
    "for row in range(int(input(\"enter the starting range \")),int(input(\"enter the ending range \"))):\n",
    "    count=0\n",
    "    for col in range(2,row):\n",
    "        if row%col == 0:\n",
    "            count+=1\n",
    "            \n",
    "    if count==0:\n",
    "            liss.append(row)\n",
    "print(liss)"
   ]
  },
  {
   "cell_type": "markdown",
   "metadata": {},
   "source": [
    "#### 12.\tProgram to find the sum and average of 10 positive integers"
   ]
  },
  {
   "cell_type": "code",
   "execution_count": 12,
   "metadata": {},
   "outputs": [
    {
     "name": "stdout",
     "output_type": "stream",
     "text": [
      "enter the 10 postive numbers 1 2 5\n",
      "8\n"
     ]
    }
   ],
   "source": [
    "number = list(map(int,input(\"enter the 10 postive numbers \").split( )))\n",
    "sum =0\n",
    "for i in number:\n",
    "    sum  = sum + i\n",
    "print(sum)"
   ]
  },
  {
   "cell_type": "markdown",
   "metadata": {},
   "source": [
    "#### 13.\tProgram to perform arithmetic calculations on integers"
   ]
  },
  {
   "cell_type": "code",
   "execution_count": 6,
   "metadata": {},
   "outputs": [
    {
     "name": "stdout",
     "output_type": "stream",
     "text": [
      "Enter the value of a 3\n",
      "Enter the value of b 4\n",
      "  enter 1 for addition \n",
      " enter 2 for substraction \n",
      " enter 3 for multiplication \n",
      " enter 4 for division \n",
      " enter 5 for power \n",
      " enter 6 for moulus\n",
      "Enter the value  4\n",
      "0.75\n"
     ]
    }
   ],
   "source": [
    "a = int(input(\"Enter the value of a \"))\n",
    "b = int(input(\"Enter the value of b \"))\n",
    "\n",
    "def calculator(a,b):\n",
    "    print(f\"  enter 1 for addition \\n enter 2 for substraction \\n enter 3 for multiplication \\n enter 4 for division \\n enter 5 for power \\n enter 6 for moulus\")\n",
    "    n = int(input(\"Enter the value  \"))\n",
    "    if n == 1 :\n",
    "        return a+b\n",
    "    elif n == 2:\n",
    "        return a-b\n",
    "    elif n == 3 :\n",
    "        return a*b\n",
    "    elif n == 4 :\n",
    "        return a/b\n",
    "    elif n==5 :\n",
    "        return a**b\n",
    "    elif n== 6 :\n",
    "        return a%b\n",
    "print( calculator(a,b))\n",
    "         "
   ]
  },
  {
   "cell_type": "markdown",
   "metadata": {},
   "source": [
    "### 14.\tProgram to find whether the alphabet is a vowel or consonant"
   ]
  },
  {
   "cell_type": "code",
   "execution_count": 3,
   "metadata": {},
   "outputs": [
    {
     "name": "stdout",
     "output_type": "stream",
     "text": [
      "enter the alphabate r\n",
      "this is consonent \n"
     ]
    }
   ],
   "source": [
    "alpha = input(\"enter the alphabate \")\n",
    "if alpha == 'a' or alpha == 'A':\n",
    "    print(\"this is vowel\")\n",
    "elif alpha == 'e' or alpha == 'E':\n",
    "    print(\"this is vowel\")\n",
    "elif alpha == 'i' or alpha == 'I':\n",
    "    print(\"this is vowel\")\n",
    "elif alpha == 'o' or alpha == 'O':\n",
    "    print(\"this is vowel\")\n",
    "elif alpha == 'u' or alpha == 'U':\n",
    "    print(\"this is vowel\")\n",
    "else:\n",
    "    print(\"this is consonent \")"
   ]
  },
  {
   "cell_type": "markdown",
   "metadata": {},
   "source": [
    "#### 15.\tProgram to check whether a date is valid or not"
   ]
  },
  {
   "cell_type": "code",
   "execution_count": null,
   "metadata": {},
   "outputs": [],
   "source": []
  },
  {
   "cell_type": "markdown",
   "metadata": {},
   "source": [
    "#### 16.\tProgram to get difference of two dates in years, months days"
   ]
  },
  {
   "cell_type": "code",
   "execution_count": null,
   "metadata": {},
   "outputs": [],
   "source": []
  },
  {
   "cell_type": "markdown",
   "metadata": {},
   "source": [
    "#### 17.\tProgram to find LCM and HCF of two numbers"
   ]
  },
  {
   "cell_type": "code",
   "execution_count": 64,
   "metadata": {},
   "outputs": [
    {
     "name": "stdout",
     "output_type": "stream",
     "text": [
      "enter the num1 13\n",
      "enter the num2 14\n",
      "lcm :182\n",
      "gcf : 1\n"
     ]
    }
   ],
   "source": [
    "n1 = int(input(\"enter the num1 \"))\n",
    "n2 = int(input(\"enter the num2 \"))\n",
    "r=n1\n",
    "a=n1\n",
    "b=n2\n",
    "while r!=0:\n",
    "    if n1>=n2:\n",
    "        r=n1-n2\n",
    "        n1=n2\n",
    "        n2=r\n",
    "    if n2>=n1:\n",
    "        r=n2-n1\n",
    "        n2=n1\n",
    "        n1=r\n",
    "    if n1==n2 or r==1:\n",
    "        s=a*b//n1\n",
    "        print(f\"lcm :{s}\")\n",
    "        print(f\"gcf : {r}\")\n",
    "        "
   ]
  },
  {
   "cell_type": "markdown",
   "metadata": {},
   "source": [
    "#### 18.\tProgram to print numbers from 1 t0 80 separated by tab, 8 numbers per line."
   ]
  },
  {
   "cell_type": "code",
   "execution_count": 21,
   "metadata": {},
   "outputs": [
    {
     "name": "stdout",
     "output_type": "stream",
     "text": [
      "1 2 3 4 5 6 7 8 \n",
      "9 10 11 12 13 14 15 16 \n",
      "17 18 19 20 21 22 23 24 \n",
      "25 26 27 28 29 30 31 32 \n",
      "33 34 35 36 37 38 39 40 \n",
      "41 42 43 44 45 46 47 48 \n",
      "49 50 51 52 53 54 55 56 \n",
      "57 58 59 60 61 62 63 64 \n",
      "65 66 67 68 69 70 71 72 \n",
      "73 74 75 76 77 78 79 80 \n"
     ]
    }
   ],
   "source": [
    "n=1\n",
    "for i in range(8,88,8):\n",
    "    for j in range(n,i+1):\n",
    "        print(j,end=\" \")\n",
    "    print()\n",
    "    n+=8"
   ]
  },
  {
   "cell_type": "markdown",
   "metadata": {},
   "source": [
    "#### 19.\tWrite a Program to input 10 numbers and find the largest number."
   ]
  },
  {
   "cell_type": "code",
   "execution_count": 37,
   "metadata": {},
   "outputs": [
    {
     "name": "stdout",
     "output_type": "stream",
     "text": [
      "enter the 10 numbers 44 56 35 66 34\n"
     ]
    },
    {
     "ename": "TypeError",
     "evalue": "'int' object is not callable",
     "output_type": "error",
     "traceback": [
      "\u001b[1;31m---------------------------------------------------------------------------\u001b[0m",
      "\u001b[1;31mTypeError\u001b[0m                                 Traceback (most recent call last)",
      "\u001b[1;32m<ipython-input-37-d9474ea4b20f>\u001b[0m in \u001b[0;36m<module>\u001b[1;34m\u001b[0m\n\u001b[1;32m----> 1\u001b[1;33m \u001b[0mnumm\u001b[0m \u001b[1;33m=\u001b[0m\u001b[0mmax\u001b[0m\u001b[1;33m(\u001b[0m\u001b[0mlist\u001b[0m\u001b[1;33m(\u001b[0m\u001b[0mmap\u001b[0m\u001b[1;33m(\u001b[0m\u001b[0mint\u001b[0m\u001b[1;33m,\u001b[0m\u001b[0minput\u001b[0m\u001b[1;33m(\u001b[0m\u001b[1;34m\"enter the 10 numbers \"\u001b[0m\u001b[1;33m)\u001b[0m\u001b[1;33m.\u001b[0m\u001b[0msplit\u001b[0m\u001b[1;33m(\u001b[0m\u001b[1;33m)\u001b[0m\u001b[1;33m)\u001b[0m\u001b[1;33m)\u001b[0m\u001b[1;33m)\u001b[0m\u001b[1;33m\u001b[0m\u001b[1;33m\u001b[0m\u001b[0m\n\u001b[0m\u001b[0;32m      2\u001b[0m \u001b[0mprint\u001b[0m\u001b[1;33m(\u001b[0m\u001b[0mnumm\u001b[0m\u001b[1;33m)\u001b[0m\u001b[1;33m\u001b[0m\u001b[1;33m\u001b[0m\u001b[0m\n\u001b[0;32m      3\u001b[0m \u001b[1;31m# -------------OR-----------\u001b[0m\u001b[1;33m\u001b[0m\u001b[1;33m\u001b[0m\u001b[1;33m\u001b[0m\u001b[0m\n\u001b[0;32m      4\u001b[0m \u001b[1;31m# num = list(map(int,input(\"enter the 10 numbers \").split()))\u001b[0m\u001b[1;33m\u001b[0m\u001b[1;33m\u001b[0m\u001b[1;33m\u001b[0m\u001b[0m\n\u001b[0;32m      5\u001b[0m \u001b[1;31m# l =num[0]\u001b[0m\u001b[1;33m\u001b[0m\u001b[1;33m\u001b[0m\u001b[1;33m\u001b[0m\u001b[0m\n",
      "\u001b[1;31mTypeError\u001b[0m: 'int' object is not callable"
     ]
    }
   ],
   "source": [
    "numm =list(map(int,input(\"enter the 10 numbers \").split()))\n",
    "print(numm)\n",
    "# -------------OR-----------\n",
    "# num = list(map(int,input(\"enter the 10 numbers \").split()))\n",
    "# l =num[0]\n",
    "# for i in num:\n",
    "#     if l<=i:\n",
    "#         maxx = i\n",
    "#     else:\n",
    "#         l=i\n",
    "# print(maxx)    "
   ]
  },
  {
   "cell_type": "markdown",
   "metadata": {},
   "source": [
    "#### 20.\tWrite a program to input 10 numbers ranging from 1 to 50 and draw a histogram by displaying adjacent ‘=’ signs \n",
    "    for each number entered. For example \n",
    "    if the number entered is 12 then a line of 12 equal to signs should be displayed."
   ]
  },
  {
   "cell_type": "code",
   "execution_count": 4,
   "metadata": {},
   "outputs": [
    {
     "name": "stdout",
     "output_type": "stream",
     "text": [
      "enter the 10 numbers in range 1 to 50 12 3 10 13 14 18 9\n",
      "12 = = = = = = = = = = = = \n",
      "3 = = = \n",
      "10 = = = = = = = = = = \n",
      "13 = = = = = = = = = = = = = \n",
      "14 = = = = = = = = = = = = = = \n",
      "18 = = = = = = = = = = = = = = = = = = \n",
      "9 = = = = = = = = = \n"
     ]
    }
   ],
   "source": [
    "numer = list(map(int,input(\"enter the 10 numbers in range 1 to 50 \").split(\" \")))\n",
    "for i in numer:\n",
    "    print(i,end=\" \")\n",
    "    for col in range(i):\n",
    "        print(\"=\",end=\" \")\n",
    "    print()"
   ]
  },
  {
   "cell_type": "markdown",
   "metadata": {},
   "source": [
    "#### 21.\tWrite a program to print all prime numbers from 1 to n."
   ]
  },
  {
   "cell_type": "code",
   "execution_count": 14,
   "metadata": {},
   "outputs": [
    {
     "name": "stdout",
     "output_type": "stream",
     "text": [
      "enter the ending range 1000\n",
      "[1, 2, 3, 5, 7, 11, 13, 17, 19, 23, 29, 31, 37, 41, 43, 47, 53, 59, 61, 67, 71, 73, 79, 83, 89, 97, 101, 103, 107, 109, 113, 127, 131, 137, 139, 149, 151, 157, 163, 167, 173, 179, 181, 191, 193, 197, 199, 211, 223, 227, 229, 233, 239, 241, 251, 257, 263, 269, 271, 277, 281, 283, 293, 307, 311, 313, 317, 331, 337, 347, 349, 353, 359, 367, 373, 379, 383, 389, 397, 401, 409, 419, 421, 431, 433, 439, 443, 449, 457, 461, 463, 467, 479, 487, 491, 499, 503, 509, 521, 523, 541, 547, 557, 563, 569, 571, 577, 587, 593, 599, 601, 607, 613, 617, 619, 631, 641, 643, 647, 653, 659, 661, 673, 677, 683, 691, 701, 709, 719, 727, 733, 739, 743, 751, 757, 761, 769, 773, 787, 797, 809, 811, 821, 823, 827, 829, 839, 853, 857, 859, 863, 877, 881, 883, 887, 907, 911, 919, 929, 937, 941, 947, 953, 967, 971, 977, 983, 991, 997]\n"
     ]
    }
   ],
   "source": [
    "prime =[]\n",
    "for i in range(1,int(input(\"enter the ending range \"))):\n",
    "    count=0\n",
    "    for num in range(2,i-1):\n",
    "        if i%num ==0:\n",
    "            count+=1\n",
    "    if count == 0:\n",
    "        prime.append(i)\n",
    "print(prime)"
   ]
  },
  {
   "cell_type": "markdown",
   "metadata": {},
   "source": [
    "#### 22.\tWrite a program to enter a number and find the reverse of that number. Also display the double of the reverse number. (don’t use string magic)"
   ]
  },
  {
   "cell_type": "code",
   "execution_count": 6,
   "metadata": {},
   "outputs": [
    {
     "name": "stdout",
     "output_type": "stream",
     "text": [
      "enter the number 123\n",
      "642\n"
     ]
    }
   ],
   "source": [
    "number = int(input(\"enter the number \"))\n",
    "total = 0\n",
    "while number != 0 :\n",
    "    reverse = number%10\n",
    "    total = total*10+reverse\n",
    "    number = number//10\n",
    "print(total*2)"
   ]
  },
  {
   "cell_type": "markdown",
   "metadata": {},
   "source": [
    "#### 23.\tWrite a program to find a number is palindrome or not. and  display all four digit palindromes."
   ]
  },
  {
   "cell_type": "code",
   "execution_count": 10,
   "metadata": {},
   "outputs": [
    {
     "name": "stdout",
     "output_type": "stream",
     "text": [
      "enter the starting range1000\n",
      "enter the ending range 2000\n",
      "[1001, 1111, 1221, 1331, 1441, 1551, 1661, 1771, 1881, 1991]\n"
     ]
    }
   ],
   "source": [
    "palindrom =[]\n",
    "for num in range(int(input(\"enter the starting range\")),int(input(\"enter the ending range \"))):\n",
    "    palin=num\n",
    "    reverse = 0\n",
    "    while num !=0:\n",
    "        remainder = num%10\n",
    "        reverse = reverse*10 + remainder\n",
    "        num = num // 10\n",
    "    if reverse == palin:\n",
    "        palindrom.append(palin)\n",
    "print(palindrom)"
   ]
  },
  {
   "cell_type": "markdown",
   "metadata": {},
   "source": [
    "#### 25.\tWrite a program to input a number and count the digits in it. Use while loop and the program should work correctly for 0 also."
   ]
  },
  {
   "cell_type": "code",
   "execution_count": 22,
   "metadata": {},
   "outputs": [
    {
     "name": "stdout",
     "output_type": "stream",
     "text": [
      "enter the number 10\n",
      "2\n"
     ]
    }
   ],
   "source": [
    "number = int(input(\"enter the number \"))\n",
    "total = 0\n",
    "if number != 0:\n",
    "    while number != 0:\n",
    "        digit  = number % 10 \n",
    "        if digit>=0:\n",
    "            total  +=1\n",
    "        number = number //10\n",
    "    print(f\"total digit in this number is : {total}\")\n",
    "else:\n",
    "    print(\"total digit : 1\")"
   ]
  },
  {
   "cell_type": "markdown",
   "metadata": {},
   "source": [
    "#### 26.\tInput a number and a digit, and count the number of times the digit occurs in the number.(don’t use count function or string)"
   ]
  },
  {
   "cell_type": "code",
   "execution_count": 6,
   "metadata": {},
   "outputs": [
    {
     "name": "stdout",
     "output_type": "stream",
     "text": [
      "enter the number 123\n",
      "enter the dig0\n",
      "0\n"
     ]
    }
   ],
   "source": [
    "number = int(input(\"enter the number \"))\n",
    "digit  = int(input(\"enter the dig\"))\n",
    "total,count= [],0\n",
    "while number !=0:\n",
    "    a = number % 10\n",
    "    total.append(a)\n",
    "    number = number // 10\n",
    "for i in total:\n",
    "    if i == digit:\n",
    "        count+=1\n",
    "print(count)"
   ]
  },
  {
   "cell_type": "markdown",
   "metadata": {},
   "source": [
    "\n",
    "#### 27.\tWrite a program to accept any number n and print the sum of square of all numbers from 1 to n."
   ]
  },
  {
   "cell_type": "code",
   "execution_count": 8,
   "metadata": {},
   "outputs": [
    {
     "name": "stdout",
     "output_type": "stream",
     "text": [
      "enter the value of n 4\n",
      "14\n"
     ]
    }
   ],
   "source": [
    "squire =sum([i**2 for i in range(1,int(input(\"enter the value of n \")))])\n",
    "print(squire)"
   ]
  },
  {
   "cell_type": "markdown",
   "metadata": {},
   "source": [
    "#### 28.\tWrite a program to accept any number n and print the cube of all numbers from 1 to n which are divisible by 3. Rewrite the program using a continue statement."
   ]
  },
  {
   "cell_type": "code",
   "execution_count": 14,
   "metadata": {},
   "outputs": [
    {
     "name": "stdout",
     "output_type": "stream",
     "text": [
      "enter the value of n 7\n",
      "243\n"
     ]
    }
   ],
   "source": [
    "# cube =sum([i**3 for i in range(1,int(input(\"enter the value of n \"))) if i%3==0])\n",
    "# print(cube)\n",
    "# ___________________or_____________\n",
    "cube=[]\n",
    "for i in range(1,int(input(\"enter the value of n \"))):\n",
    "    if i%3 !=0:\n",
    "        continue\n",
    "    cube.append(i**3) \n",
    "print(sum(cube))"
   ]
  },
  {
   "cell_type": "markdown",
   "metadata": {},
   "source": [
    "#### 31.\tWrite a program to enter a number and test whether it is a Fibonacci number or not."
   ]
  },
  {
   "cell_type": "code",
   "execution_count": null,
   "metadata": {},
   "outputs": [],
   "source": []
  },
  {
   "cell_type": "markdown",
   "metadata": {},
   "source": [
    "#### 32.\tWrite a program to read roll number and marks of 10 students in 3 subjects.\n",
    "The valid range for roll number is 1000-9999, if the roll number entered is not in this range, \n",
    "the user should be asked to enter again. Calculate total marks of only those students who get more than or \n",
    "equal to 40 marks in each subject. Count the number of students whose total is more than 200.\n",
    "Print the roll number of the students who gets the highest total."
   ]
  },
  {
   "cell_type": "code",
   "execution_count": null,
   "metadata": {},
   "outputs": [],
   "source": []
  },
  {
   "cell_type": "code",
   "execution_count": null,
   "metadata": {},
   "outputs": [],
   "source": [
    "# 33.\tWrite a program that inputs an integer n and displays an n-by-n checkerboard pattern. If the value of n is 5, the pattern would be –\n",
    "-\t*  *  *  *  *\n",
    "-\t  *  *  *  *  *\n",
    "-\t*  *  *  *  *  \n",
    "-\t  *  *  *  *  *\n",
    "-\t*  *  *  *  *\n"
   ]
  },
  {
   "cell_type": "code",
   "execution_count": null,
   "metadata": {},
   "outputs": [],
   "source": [
    "number  = int(input(\"enter the number \"))\n"
   ]
  }
 ],
 "metadata": {
  "kernelspec": {
   "display_name": "Python 3",
   "language": "python",
   "name": "python3"
  },
  "language_info": {
   "codemirror_mode": {
    "name": "ipython",
    "version": 3
   },
   "file_extension": ".py",
   "mimetype": "text/x-python",
   "name": "python",
   "nbconvert_exporter": "python",
   "pygments_lexer": "ipython3",
   "version": "3.7.4"
  }
 },
 "nbformat": 4,
 "nbformat_minor": 2
}
